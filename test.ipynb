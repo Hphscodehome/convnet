{
 "cells": [
  {
   "cell_type": "code",
   "execution_count": 1,
   "id": "d74884b0-cadc-47d1-a0e3-c2e5c745a11b",
   "metadata": {},
   "outputs": [
    {
     "name": "stdout",
     "output_type": "stream",
     "text": [
      "2.0.1\n",
      "11.7\n",
      "8500\n",
      "True\n",
      "1\n",
      "NVIDIA GeForce GTX 960M\n",
      "0\n",
      "tensor(1.2000, device='cuda:0')\n",
      "True\n",
      "True\n",
      "time.struct_time(tm_year=2023, tm_mon=8, tm_mday=30, tm_hour=7, tm_min=2, tm_sec=32, tm_wday=2, tm_yday=242, tm_isdst=0)\n"
     ]
    }
   ],
   "source": [
    "import torch\n",
    "import time\n",
    "print(torch.__version__)\n",
    "print(torch.version.cuda)\n",
    "print(torch.backends.cudnn.version())\n",
    "print(torch.cuda.is_available())\n",
    "print(torch.cuda.device_count())\n",
    "print(torch.cuda.get_device_name(0))\n",
    "print(torch.cuda.current_device())\n",
    "a=torch.tensor(1.2)\n",
    "a.cuda()\n",
    "print(a.cuda())\n",
    "from torch.backends import cudnn\n",
    "print(cudnn.is_available())\n",
    "print(cudnn.is_acceptable(a.cuda()))\n",
    "print(time.localtime(time.time()))"
   ]
  },
  {
   "cell_type": "code",
   "execution_count": 2,
   "id": "504fff10-c346-448d-b0ef-3598980b166d",
   "metadata": {},
   "outputs": [
    {
     "name": "stdout",
     "output_type": "stream",
     "text": [
      "cuda:0\n",
      "tensor(100.)\n",
      "tensor(100.)\n",
      "Note: you may need to restart the kernel to use updated packages.\n"
     ]
    }
   ],
   "source": [
    "torch.tensor(5.0)\n",
    "device = torch.device(\"cuda:0\" if torch.cuda.is_available() else \"cpu\")\n",
    "print(device)\n",
    "a=torch.tensor(100.)\n",
    "print(a)\n",
    "a.to(device)\n",
    "print(a)\n",
    "#torch.device(\"cuda:0\")\n",
    "#torch.cuda.empty_cache()\n"
   ]
  },
  {
   "cell_type": "code",
   "execution_count": 4,
   "id": "6292ce8c-9c8d-4b30-a0ed-af3eef62886d",
   "metadata": {},
   "outputs": [
    {
     "name": "stdout",
     "output_type": "stream",
     "text": [
      "Note: you may need to restart the kernel to use updated packages.\n"
     ]
    }
   ],
   "source": [
    "%pip config list"
   ]
  },
  {
   "cell_type": "code",
   "execution_count": 1,
   "id": "6a1fa519-fb9c-4d99-a832-4e2cbe501bb8",
   "metadata": {},
   "outputs": [
    {
     "name": "stdout",
     "output_type": "stream",
     "text": [
      "Note: you may need to restart the kernel to use updated packages.\n"
     ]
    }
   ],
   "source": [
    "%pip config list"
   ]
  },
  {
   "cell_type": "code",
   "execution_count": null,
   "id": "df5add47-d299-4ab7-88c7-d075bb8b88f0",
   "metadata": {},
   "outputs": [],
   "source": [
    "#test"
   ]
  }
 ],
 "metadata": {
  "kernelspec": {
   "display_name": "Python 3 (ipykernel)",
   "language": "python",
   "name": "python3"
  },
  "language_info": {
   "codemirror_mode": {
    "name": "ipython",
    "version": 3
   },
   "file_extension": ".py",
   "mimetype": "text/x-python",
   "name": "python",
   "nbconvert_exporter": "python",
   "pygments_lexer": "ipython3",
   "version": "3.1.0"
  }
 },
 "nbformat": 4,
 "nbformat_minor": 5
}

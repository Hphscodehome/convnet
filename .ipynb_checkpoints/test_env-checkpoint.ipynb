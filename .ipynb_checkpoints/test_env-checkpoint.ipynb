{
 "cells": [
  {
   "cell_type": "code",
   "execution_count": 7,
   "id": "3963718f-3e24-491d-b391-20adf53f0260",
   "metadata": {},
   "outputs": [
    {
     "name": "stdout",
     "output_type": "stream",
     "text": [
      "True\n",
      "2\n",
      "NVIDIA GeForce RTX 3090\n",
      "NVIDIA GeForce RTX 3090\n",
      "0\n"
     ]
    }
   ],
   "source": [
    "import torch\n",
    "print(torch.cuda.is_available())# cuda是否可用\n",
    "print(torch.cuda.device_count())# 返回gpu数量\n",
    "for i in range(torch.cuda.device_count()):\n",
    "    print(torch.cuda.get_device_name(i))# 返回gpu名字，设备索引默认从0开始\n",
    "print(torch.cuda.current_device())# 返回当前设备索引"
   ]
  },
  {
   "cell_type": "code",
   "execution_count": null,
   "id": "78ce2d52-25db-4a4d-b875-eb3d4cf42401",
   "metadata": {},
   "outputs": [],
   "source": []
  }
 ],
 "metadata": {
  "kernelspec": {
   "display_name": "Python 3 (ipykernel)",
   "language": "python",
   "name": "python3"
  },
  "language_info": {
   "codemirror_mode": {
    "name": "ipython",
    "version": 3
   },
   "file_extension": ".py",
   "mimetype": "text/x-python",
   "name": "python",
   "nbconvert_exporter": "python",
   "pygments_lexer": "ipython3",
   "version": "3.9.18"
  }
 },
 "nbformat": 4,
 "nbformat_minor": 5
}
